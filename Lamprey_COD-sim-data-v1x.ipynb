{
 "cells": [
  {
   "cell_type": "markdown",
   "metadata": {
    "id": "_V8XV1qqPBL8"
   },
   "source": [
    "# Applying Complex Orthogonal Decomposition to Lampreys swimming in fluid environment of various viscosity\n",
    "# COD analysis on simulated data sets\n",
    "## In this notebook, we perform initial COD analysis to take a look at traveling indices and complex orthogonal values\n",
    "### Author: Yuexia Luna Lin (luna.lin@epfl.ch)\n",
    "### Data provided by Prof. Eric Tytell."
   ]
  },
  {
   "cell_type": "markdown",
   "metadata": {
    "id": "U5EABnH6mxEW"
   },
   "source": [
    "# Start by loading some necessary libraries and our pre-processed dataset"
   ]
  },
  {
   "cell_type": "code",
   "execution_count": 52,
   "metadata": {
    "id": "MpZ78YL2PBL4"
   },
   "outputs": [],
   "source": [
    "import numpy as np\n",
    "import matplotlib.pyplot as plt\n",
    "import pandas as pd\n",
    "from matplotlib.animation import FuncAnimation\n",
    "from matplotlib import rc\n",
    "import zipfile\n",
    "\n",
    "import os\n",
    "from os import listdir\n",
    "from os.path import isfile, isdir, join\n",
    "from scipy.interpolate import interp1d\n",
    "from scipy.signal import hilbert\n",
    "from scipy.fft import rfft, irfft\n",
    "from scipy.linalg import eigh\n",
    "from scipy.optimize import curve_fit, brute, minimize\n",
    "\n",
    "# The following two lines is to be able toeasily convert\n",
    "# comma decimal place to point decimal place\n",
    "import locale\n",
    "#locale.setlocale(locale.LC_NUMERIC, \"fr_CH.ISO8859-15\")\n",
    "import time\n",
    "\n",
    "# To read Eric's h5 file, we can't use Pandas since it requires a particular structure within the HDF5 file.\n",
    "# So we need this library\n",
    "import h5py\n",
    "\n",
    "%matplotlib inline\n",
    "#%matplotlib notebook"
   ]
  },
  {
   "cell_type": "markdown",
   "metadata": {},
   "source": [
    "# Read in the simulated dataset"
   ]
  },
  {
   "cell_type": "code",
   "execution_count": 53,
   "metadata": {},
   "outputs": [],
   "source": [
    "# We read in the pre-processed dataset\n",
    "data_frame = pd.read_csv(\"Data/sim_viscosity1x.csv\")\n",
    "\n",
    "# Only use when swimmer has reach steady velocity\n",
    "data_frame = data_frame[data_frame[\"issteady\"]!=0]"
   ]
  },
  {
   "cell_type": "code",
   "execution_count": 54,
   "metadata": {},
   "outputs": [
    {
     "data": {
      "text/html": [
       "<div>\n",
       "<style scoped>\n",
       "    .dataframe tbody tr th:only-of-type {\n",
       "        vertical-align: middle;\n",
       "    }\n",
       "\n",
       "    .dataframe tbody tr th {\n",
       "        vertical-align: top;\n",
       "    }\n",
       "\n",
       "    .dataframe thead th {\n",
       "        text-align: right;\n",
       "    }\n",
       "</style>\n",
       "<table border=\"1\" class=\"dataframe\">\n",
       "  <thead>\n",
       "    <tr style=\"text-align: right;\">\n",
       "      <th></th>\n",
       "      <th>t</th>\n",
       "      <th>s</th>\n",
       "      <th>xm</th>\n",
       "      <th>ym</th>\n",
       "      <th>viscosity</th>\n",
       "      <th>filename</th>\n",
       "      <th>issteady</th>\n",
       "      <th>frame</th>\n",
       "      <th>comx</th>\n",
       "      <th>comy</th>\n",
       "      <th>bodyaxisx</th>\n",
       "      <th>bodyaxisy</th>\n",
       "      <th>bodycoordx</th>\n",
       "      <th>bodycoordy</th>\n",
       "    </tr>\n",
       "  </thead>\n",
       "  <tbody>\n",
       "    <tr>\n",
       "      <th>37557</th>\n",
       "      <td>3.0208</td>\n",
       "      <td>0.000000</td>\n",
       "      <td>-5.697774</td>\n",
       "      <td>6.729320</td>\n",
       "      <td>1x</td>\n",
       "      <td>simulations/sim54959-2</td>\n",
       "      <td>1</td>\n",
       "      <td>NaN</td>\n",
       "      <td>NaN</td>\n",
       "      <td>NaN</td>\n",
       "      <td>NaN</td>\n",
       "      <td>NaN</td>\n",
       "      <td>NaN</td>\n",
       "      <td>NaN</td>\n",
       "    </tr>\n",
       "    <tr>\n",
       "      <th>37558</th>\n",
       "      <td>3.0208</td>\n",
       "      <td>0.039266</td>\n",
       "      <td>-5.658510</td>\n",
       "      <td>6.728761</td>\n",
       "      <td>1x</td>\n",
       "      <td>simulations/sim54959-2</td>\n",
       "      <td>1</td>\n",
       "      <td>NaN</td>\n",
       "      <td>NaN</td>\n",
       "      <td>NaN</td>\n",
       "      <td>NaN</td>\n",
       "      <td>NaN</td>\n",
       "      <td>NaN</td>\n",
       "      <td>NaN</td>\n",
       "    </tr>\n",
       "    <tr>\n",
       "      <th>37559</th>\n",
       "      <td>3.0208</td>\n",
       "      <td>0.078518</td>\n",
       "      <td>-5.619249</td>\n",
       "      <td>6.728179</td>\n",
       "      <td>1x</td>\n",
       "      <td>simulations/sim54959-2</td>\n",
       "      <td>1</td>\n",
       "      <td>NaN</td>\n",
       "      <td>NaN</td>\n",
       "      <td>NaN</td>\n",
       "      <td>NaN</td>\n",
       "      <td>NaN</td>\n",
       "      <td>NaN</td>\n",
       "      <td>NaN</td>\n",
       "    </tr>\n",
       "    <tr>\n",
       "      <th>37560</th>\n",
       "      <td>3.0208</td>\n",
       "      <td>0.117798</td>\n",
       "      <td>-5.579989</td>\n",
       "      <td>6.727595</td>\n",
       "      <td>1x</td>\n",
       "      <td>simulations/sim54959-2</td>\n",
       "      <td>1</td>\n",
       "      <td>NaN</td>\n",
       "      <td>NaN</td>\n",
       "      <td>NaN</td>\n",
       "      <td>NaN</td>\n",
       "      <td>NaN</td>\n",
       "      <td>NaN</td>\n",
       "      <td>NaN</td>\n",
       "    </tr>\n",
       "    <tr>\n",
       "      <th>37561</th>\n",
       "      <td>3.0208</td>\n",
       "      <td>0.157061</td>\n",
       "      <td>-5.540731</td>\n",
       "      <td>6.727016</td>\n",
       "      <td>1x</td>\n",
       "      <td>simulations/sim54959-2</td>\n",
       "      <td>1</td>\n",
       "      <td>NaN</td>\n",
       "      <td>NaN</td>\n",
       "      <td>NaN</td>\n",
       "      <td>NaN</td>\n",
       "      <td>NaN</td>\n",
       "      <td>NaN</td>\n",
       "      <td>NaN</td>\n",
       "    </tr>\n",
       "  </tbody>\n",
       "</table>\n",
       "</div>"
      ],
      "text/plain": [
       "            t         s        xm        ym viscosity                filename  \\\n",
       "37557  3.0208  0.000000 -5.697774  6.729320        1x  simulations/sim54959-2   \n",
       "37558  3.0208  0.039266 -5.658510  6.728761        1x  simulations/sim54959-2   \n",
       "37559  3.0208  0.078518 -5.619249  6.728179        1x  simulations/sim54959-2   \n",
       "37560  3.0208  0.117798 -5.579989  6.727595        1x  simulations/sim54959-2   \n",
       "37561  3.0208  0.157061 -5.540731  6.727016        1x  simulations/sim54959-2   \n",
       "\n",
       "       issteady  frame  comx  comy  bodyaxisx  bodyaxisy  bodycoordx  \\\n",
       "37557         1    NaN   NaN   NaN        NaN        NaN         NaN   \n",
       "37558         1    NaN   NaN   NaN        NaN        NaN         NaN   \n",
       "37559         1    NaN   NaN   NaN        NaN        NaN         NaN   \n",
       "37560         1    NaN   NaN   NaN        NaN        NaN         NaN   \n",
       "37561         1    NaN   NaN   NaN        NaN        NaN         NaN   \n",
       "\n",
       "       bodycoordy  \n",
       "37557         NaN  \n",
       "37558         NaN  \n",
       "37559         NaN  \n",
       "37560         NaN  \n",
       "37561         NaN  "
      ]
     },
     "execution_count": 54,
     "metadata": {},
     "output_type": "execute_result"
    }
   ],
   "source": [
    "column_names = data_frame.columns.tolist() +  ['frame', 'comx', 'comy', 'bodyaxisx', 'bodyaxisy', 'bodycoordx', 'bodycoordy']\n",
    "data_frame = data_frame.reindex(columns = column_names)\n",
    "data_frame.head()"
   ]
  },
  {
   "cell_type": "code",
   "execution_count": 55,
   "metadata": {},
   "outputs": [],
   "source": [
    "# A simple PCA function\n",
    "def PCA(df):\n",
    "    \"\"\" This function takes in a Pandas DataFrame that contains the (x,y)\n",
    "    data, labeled as 'mxmm', 'mymm' respectively.\n",
    "    It then calculates the two principal components of this set of data points.\"\"\"\n",
    "    \n",
    "    x= df['xm'].tolist()\n",
    "    y= df['ym'].tolist()\n",
    "    comx = np.mean(x)\n",
    "    comy = np.mean(y)\n",
    "    standard_x = (x - comx)\n",
    "    standard_y = (y - comy)\n",
    "    \n",
    "    # perform PCA\n",
    "    D = np.vstack([standard_x, standard_y]).T\n",
    "    Corr = D.T @ D\n",
    "    U, S, Vh = np.linalg.svd(Corr)\n",
    "    pca = U[:, np.argmax(S)]\n",
    "    # If the principal vector is pointing to the tail, we flip it around\n",
    "    if (np.dot(pca, D[0,:])) < 0:\n",
    "        pca = -pca\n",
    "    return comx, comy, pca"
   ]
  },
  {
   "cell_type": "code",
   "execution_count": 56,
   "metadata": {
    "scrolled": false
   },
   "outputs": [],
   "source": [
    "time_pts = data_frame['t'].unique()\n",
    "frames = np.arange(len(time_pts),dtype=int)\n",
    "for t,f in zip(time_pts, frames):\n",
    "    # set frame number\n",
    "    data_frame.loc[(data_frame['t'] == t), 'frame'] = f\n",
    "    \n",
    "data_frame['frame'] = data_frame['frame'].astype(int)\n",
    "\n",
    "for f in frames:\n",
    "    comx, comy, pca = PCA(data_frame.loc[data_frame['frame']==f])\n",
    "    # set the values of comx, comy, bodyaxisx, bodyaxisy of this frame\n",
    "    data_frame.loc[(data_frame['frame'] == f), 'comx'] = comx\n",
    "    data_frame.loc[(data_frame['frame'] == f), 'comy'] = comy\n",
    "    data_frame.loc[(data_frame['frame'] == f), 'bodyaxisx'] = pca[0]\n",
    "    data_frame.loc[(data_frame['frame'] == f), 'bodyaxisy'] = pca[1]\n",
    "\n",
    "# We can apply the following calcuation to the entire dataframe:\n",
    "# calcuation the projection of (x, y) in the lab frame onto the body frame\n",
    "data_frame.loc[:, 'bodycoordx'] = (data_frame['xm'] - data_frame['comx']) * data_frame['bodyaxisx'] \\\n",
    "                                   + (data_frame['ym'] - data_frame['comy']) * data_frame['bodyaxisy']\n",
    "data_frame.loc[:, 'bodycoordy'] = - (data_frame['xm'] - data_frame['comx'])  * data_frame['bodyaxisy'] \\\n",
    "                                   + (data_frame['ym'] - data_frame['comy'])  * data_frame['bodyaxisx']   "
   ]
  },
  {
   "cell_type": "markdown",
   "metadata": {},
   "source": [
    "# We define two functions to extract body position data \n",
    "- (x, y) in the lab frame\n",
    "- (x, y) in the body frame (body aligned with $x$-axis)\n",
    "\n",
    "## We can then visualize the raw data: in the lab frame or in body frame."
   ]
  },
  {
   "cell_type": "code",
   "execution_count": 57,
   "metadata": {},
   "outputs": [],
   "source": [
    "def extract_single_trial_bodyframe(df):\n",
    "    \"\"\" This function extracts the y coordinates at each tracking point on the fish,\n",
    "    in the frame where COM is at the origin, and the body axis align with x axis.\"\"\" \n",
    "\n",
    "    \n",
    "    xdata = np.asarray(data_frame[data_frame['frame']==0]['s'])\n",
    "    num_parts=len(xdata)\n",
    "    frames = df['frame'].unique()\n",
    "    num_frames = len(frames)\n",
    "    ydata = np.empty([num_frames, num_parts])\n",
    "    \n",
    "    for fr in frames:\n",
    "        start = fr*num_parts\n",
    "        finish = (fr+1)*num_parts\n",
    "        ydata[fr] = df.iloc[start:finish].loc[:,'bodycoordy'].values\n",
    "        \n",
    "    return xdata, ydata\n",
    "\n",
    "def extract_single_trial(df):\n",
    "    \"\"\" This function extracts the y coordinates at each tracking point on the fish,\n",
    "    in the lab frame.\"\"\" \n",
    "\n",
    "    frames = df['frame'].unique()\n",
    "    num_frames = len(frames)\n",
    "    \n",
    "    # Average the bodypart coordinate (along body axis) over time\n",
    "    # First get unique body parts names\n",
    "    xdata = np.asarray(data_frame[data_frame['frame']==0]['s'])\n",
    "    num_parts=len(xdata)\n",
    "\n",
    "    ydata = np.empty([num_frames, num_parts])\n",
    "    xdata = np.empty_like(ydata)\n",
    "    \n",
    "    for fr in frames:\n",
    "        start = fr*num_parts\n",
    "        finish = (fr+1)*num_parts\n",
    "        ydata[fr] = df.iloc[start:finish].loc[:,'ym'].values\n",
    "        xdata[fr] =  df.iloc[start:finish].loc[:,'xm'].values\n",
    "    return xdata, ydata"
   ]
  },
  {
   "cell_type": "markdown",
   "metadata": {},
   "source": [
    "## Note that \"%matplotlib notebook\" is needed for animation to show up in the notebook.\n",
    "## If \"%matplotlib inline\" has been used before, this may not work anymore in this session. Restart the session, and only issue \"%matplotlib notebook\" command."
   ]
  },
  {
   "cell_type": "code",
   "execution_count": 58,
   "metadata": {
    "scrolled": false
   },
   "outputs": [
    {
     "name": "stderr",
     "output_type": "stream",
     "text": [
      "/Users/etytel01/opt/anaconda3/lib/python3.8/site-packages/matplotlib/animation.py:889: UserWarning: Animation was deleted without rendering anything. This is most likely not intended. To prevent deletion, assign the Animation to a variable, e.g. `anim`, that exists until you have outputted the Animation using `plt.show()` or `anim.save()`.\n",
      "  warnings.warn(\n"
     ]
    },
    {
     "data": {
      "image/png": "[encoded data removed]",
      "text/plain": [
       "<Figure size 648x288 with 1 Axes>"
      ]
     },
     "metadata": {
      "needs_background": "light"
     },
     "output_type": "display_data"
    }
   ],
   "source": [
    "# We test this out on a few trials and see how the fish swim, the heading direction is also drawn on the animation\n",
    "# Can change values of IND and TRIAL to look at different ones\n",
    "\n",
    "xdata, ydata = extract_single_trial(data_frame)\n",
    "\n",
    "# Animate the swimming fish as a line-point plot\n",
    "fig, ax = plt.subplots(figsize=(9,4))\n",
    "\n",
    "ln, = plt.plot([], [], 'bo-')\n",
    "hd, = plt.plot([], [], 'ro')\n",
    "def init():\n",
    "    ymax = np.max(ydata)+5\n",
    "    ymin = np.min(ydata)-5\n",
    "    xmin = np.min(xdata)-5\n",
    "    xmax = np.max(xdata)+5\n",
    "    ax.set_xlim(xmin, xmax)\n",
    "    ax.set_ylim(ymin, ymax)\n",
    "    ax.set_aspect((ymax-ymin)/(xmax-xmin))\n",
    "    ax.set_title(\"Viscosity 1x\")\n",
    "    return ln,\n",
    "\n",
    "\n",
    "def update(frame):\n",
    "    ln.set_data(xdata[frame], ydata[frame])\n",
    "    #hd.set_data(xdata_interp, ydata_interp[frame])\n",
    "    hd.set_data(xdata[frame, 0], ydata[frame,0])\n",
    "    \n",
    "    ax.set_xlabel('T = %.4f s'%(time_pts[frame]))\n",
    "    return ln,\n",
    "\n",
    "ani = FuncAnimation(fig, update, frames=ydata.shape[0], init_func=init, blit=True);\n",
    "\n",
    "# # Uncomment this if want to save the animation to file\n",
    "# # !! I used 'ffmpeg' as my video writer, but on another computer system, it could be different\n",
    "# ani.save('./labframe_ind{}_trial{}_vis{}.mp4'.format(IND, TRIAL, visc), writer='ffmpeg', fps=50)"
   ]
  },
  {
   "cell_type": "markdown",
   "metadata": {
    "id": "iukQZS8X_20H"
   },
   "source": [
    "# Define the complex orthogonal decomposition functions, and use them to calculate the COD of a given trial, and its traveling indices"
   ]
  },
  {
   "cell_type": "code",
   "execution_count": 59,
   "metadata": {
    "id": "bmwR5lqJHOWE"
   },
   "outputs": [],
   "source": [
    "# We pass in the real signals\n",
    "# Organized as: each row represent the whole fish (N body parts) at a time point\n",
    "def complex_orthog_decomp(real_signal, tf_type=None, dc_type=None):\n",
    "    \"\"\" This function performs COD on real signal, by first complexifying it,\n",
    "    then decomposing the complex correlation matrix.\"\"\"\n",
    "    \n",
    "    nf = real_signal.shape[0]\n",
    "    zdata = np.empty_like(real_signal)\n",
    "    \n",
    "    if tf_type == None or tf_type == 'FFT':\n",
    "        # Transform the time series at each sensor location into complex signal\n",
    "        # See https://en.wikipedia.org/wiki/Analytic_signal\n",
    "        \n",
    "        ffty = np.fft.fft(real_signal, axis=0)\n",
    "        freq = np.fft.fftfreq(nf)\n",
    "        ffty[freq>0, :] = 2*ffty[freq>0, :]\n",
    "        ffty[freq<0, :] = 0\n",
    "        zdata = np.fft.ifft(ffty, axis=0)\n",
    "        #print(zdata.shape)\n",
    "\n",
    "    elif tf_type == 'H':\n",
    "\n",
    "    # According to scipy documentation, hilbert transform output x_a(t) = x(t) + iy(t),\n",
    "    # which is the complex signal COD calls for (Feeny, 2008)\n",
    "    # We transform along column direction, axis=0, since each row represents a time point\n",
    "        zdata = hilbert (real_signal, axis=0)\n",
    "    \n",
    "    else: \n",
    "        print(\"Transformation type can either be Fourier Transform (FFT) or Hilbert Transform (H).\")\n",
    "        print(\"Default is FFT.\")\n",
    "        \n",
    "    # Cast the ndarray zdata to matrix for convenience\n",
    "    # The complex ensemble matrix is organized as follows:\n",
    "    # each row is a time series of signal at a given sensor.\n",
    "    # In the fish example, in each row we have the time series of a body part\n",
    "    Z = np.asmatrix(zdata).T\n",
    "\n",
    "    # Assemble the complex correlation matrix\n",
    "    R = 1./nf * (Z @ (Z.H))\n",
    "\n",
    "    #print(\"Check complex correlation matrix is Hermitian norm(R-R.H): \", np.linalg.norm(R-R.H))\n",
    "    \n",
    "    num_samples = real_signal.shape[1]\n",
    "    U = np.zeros([num_samples, num_samples])\n",
    "    S = np.zeros(num_samples)\n",
    "    Vh = np.empty_like(U)\n",
    "    if dc_type == 'eig':\n",
    "        # Compute the eigenvalues and eigenvectors of the correlation matrix\n",
    "        # Using eigen decomposition\n",
    "        S, U = np.linalg.eigh(R)\n",
    "        S = np.flip(S)\n",
    "        U = np.flip(U, axis=1)\n",
    "        \n",
    "    elif dc_type == None or dc_type == 'svd':\n",
    "        # Since R is Hermitian (complex conjugate symmetric)\n",
    "        # its SVD is just eigen decoposition\n",
    "        U, S, Vh = np.linalg.svd(R)\n",
    "        \n",
    "    else: \n",
    "        print(\"Decomposition type can either be eigen 'eig' or SVD 'svd'.\")\n",
    "        print(\"Default is SVD.\")\n",
    "\n",
    "        \n",
    "    return zdata, Z, R, S, U\n",
    "\n",
    "# Use the real and imaginary part of the eigenmodes to compute traveling index\n",
    "def traveling_index(U):\n",
    "    \"\"\" This function computes the traveling index for every complex orthogonal mode.\"\"\"\n",
    "    \n",
    "    # The number of traveling indices is the number of modes (columns in eigenvector matrix)\n",
    "    tr_ind = np.zeros(U.shape[1])\n",
    "\n",
    "    # For each mode, we create a rectangular matrix with columns being the real and imag part of the mode\n",
    "    # The traveling index is the inverse of the condition number of this matrix\n",
    "    for i in range(len(tr_ind)):\n",
    "        tmp = np.concatenate( (np.real (U[:, i]).reshape(-1,1) , np.imag(U[:, i]).reshape(-1,1)), axis=1)\n",
    "        cond = np.linalg.cond(tmp)\n",
    "        tr_ind[i] = 1./cond\n",
    "        \n",
    "    return tr_ind"
   ]
  },
  {
   "cell_type": "markdown",
   "metadata": {},
   "source": [
    "# Compute traveling index, winding number of first mode in complex plane, and wavelength"
   ]
  },
  {
   "cell_type": "code",
   "execution_count": 60,
   "metadata": {
    "scrolled": false
   },
   "outputs": [],
   "source": [
    "xdata, ydata = extract_single_trial_bodyframe(data_frame)\n",
    "zdata, Z, R, S, U = complex_orthog_decomp(ydata, tf_type = 'H', dc_type = 'svd')\n",
    "\n",
    "ti = traveling_index(U)"
   ]
  },
  {
   "cell_type": "code",
   "execution_count": 61,
   "metadata": {},
   "outputs": [],
   "source": [
    "L = data_frame['s'].unique().max()\n",
    "mode=0\n",
    "first_mode = U[:, mode]\n",
    "shifted_real = np.array(np.real(first_mode) - np.mean(np.real(first_mode))).flatten()\n",
    "shifted_imag = np.array(np.imag(first_mode) - np.mean(np.imag(first_mode))).flatten()\n",
    "#         print( np.mean(np.real(first_mode)), np.sum(np.real(first_mode)) )\n",
    "\n",
    "modesreal = np.array(np.real(U[:,:3]))\n",
    "modesimag = np.array(np.imag(U[:,:3]))\n",
    "\n",
    "tot_angle = 0\n",
    "exceed_2pi = False\n",
    "wavelength_frac = -1\n",
    "\n",
    "# wavelength\n",
    "# Starting at the tail, get the point at which we get one full cycle, and call that the\n",
    "# wavelength\n",
    "for l in range(len(first_mode)-1, 0, -1):\n",
    "    #l = len(first_mode) - l\n",
    "    last_vector = np.array([shifted_real[l], shifted_imag[l]])\n",
    "    this_vector = np.array([shifted_real[l-1], shifted_imag[l-1]])\n",
    "    #print(last_vector, this_vector)\n",
    "    last_tot = tot_angle\n",
    "    tot_angle += np.arccos( np.dot(last_vector, this_vector)\\\n",
    "                           / np.linalg.norm(last_vector)/np.linalg.norm(this_vector) )\n",
    "    # We keep track at which point winding number becomes 1, by linearly interpolating\n",
    "    # between the points before and after winding number = 1\n",
    "    if not exceed_2pi and tot_angle>= np.pi * 2:\n",
    "        wavelength_frac = l-1 + (np.pi * 2 - last_tot)/ (tot_angle - last_tot)\n",
    "        exceed_2pi = True\n",
    "\n",
    "winding_number = tot_angle / 2/np.pi\n",
    "\n",
    "wavelength_frac = xdata.shape[0] - wavelength_frac\n",
    "wave_length = L *wavelength_frac / (xdata.shape[0]-1)"
   ]
  },
  {
   "cell_type": "code",
   "execution_count": 62,
   "metadata": {},
   "outputs": [],
   "source": [
    "index = pd.MultiIndex.from_product([range(0, xdata.shape[0]), range(1,4)], names = ['point', 'mode'])"
   ]
  },
  {
   "cell_type": "code",
   "execution_count": 63,
   "metadata": {},
   "outputs": [],
   "source": [
    "coddata = pd.DataFrame({'modereal': pd.Series(modesreal.flatten(), index = index), \n",
    "                        'modeimag': pd.Series(modesimag.flatten(), index = index)})"
   ]
  },
  {
   "cell_type": "code",
   "execution_count": 65,
   "metadata": {},
   "outputs": [],
   "source": [
    "coddata['viscosity'] = 1\n",
    "coddata['trial'] = 'sim1x'\n",
    "coddata['wavelength'] = wave_length\n",
    "coddata['windingnum'] = winding_number"
   ]
  },
  {
   "cell_type": "code",
   "execution_count": 68,
   "metadata": {},
   "outputs": [
    {
     "data": {
      "text/plain": [
       "(321,)"
      ]
     },
     "execution_count": 68,
     "metadata": {},
     "output_type": "execute_result"
    }
   ],
   "source": [
    "ti.shape"
   ]
  },
  {
   "cell_type": "code",
   "execution_count": 69,
   "metadata": {},
   "outputs": [],
   "source": [
    "ti = ti[:3]\n",
    "coddata['traveling'] = pd.Series(np.tile(ti[np.newaxis, :], (xdata.shape[0], 1)).flatten(), index=index)"
   ]
  },
  {
   "cell_type": "code",
   "execution_count": 70,
   "metadata": {},
   "outputs": [
    {
     "data": {
      "text/html": [
       "<div>\n",
       "<style scoped>\n",
       "    .dataframe tbody tr th:only-of-type {\n",
       "        vertical-align: middle;\n",
       "    }\n",
       "\n",
       "    .dataframe tbody tr th {\n",
       "        vertical-align: top;\n",
       "    }\n",
       "\n",
       "    .dataframe thead th {\n",
       "        text-align: right;\n",
       "    }\n",
       "</style>\n",
       "<table border=\"1\" class=\"dataframe\">\n",
       "  <thead>\n",
       "    <tr style=\"text-align: right;\">\n",
       "      <th></th>\n",
       "      <th>point</th>\n",
       "      <th>mode</th>\n",
       "      <th>modereal</th>\n",
       "      <th>modeimag</th>\n",
       "      <th>viscosity</th>\n",
       "      <th>trial</th>\n",
       "      <th>wavelength</th>\n",
       "      <th>windingnum</th>\n",
       "      <th>traveling</th>\n",
       "    </tr>\n",
       "  </thead>\n",
       "  <tbody>\n",
       "    <tr>\n",
       "      <th>0</th>\n",
       "      <td>0</td>\n",
       "      <td>1</td>\n",
       "      <td>-0.054023</td>\n",
       "      <td>-9.705727e-18</td>\n",
       "      <td>1</td>\n",
       "      <td>sim1x</td>\n",
       "      <td>9.319627</td>\n",
       "      <td>1.318897</td>\n",
       "      <td>0.755286</td>\n",
       "    </tr>\n",
       "    <tr>\n",
       "      <th>1</th>\n",
       "      <td>0</td>\n",
       "      <td>2</td>\n",
       "      <td>-0.075114</td>\n",
       "      <td>-4.253986e-14</td>\n",
       "      <td>1</td>\n",
       "      <td>sim1x</td>\n",
       "      <td>9.319627</td>\n",
       "      <td>1.318897</td>\n",
       "      <td>0.758278</td>\n",
       "    </tr>\n",
       "    <tr>\n",
       "      <th>2</th>\n",
       "      <td>0</td>\n",
       "      <td>3</td>\n",
       "      <td>-0.064405</td>\n",
       "      <td>-6.653098e-15</td>\n",
       "      <td>1</td>\n",
       "      <td>sim1x</td>\n",
       "      <td>9.319627</td>\n",
       "      <td>1.318897</td>\n",
       "      <td>0.904040</td>\n",
       "    </tr>\n",
       "    <tr>\n",
       "      <th>3</th>\n",
       "      <td>1</td>\n",
       "      <td>1</td>\n",
       "      <td>-0.053422</td>\n",
       "      <td>6.080391e-04</td>\n",
       "      <td>1</td>\n",
       "      <td>sim1x</td>\n",
       "      <td>9.319627</td>\n",
       "      <td>1.318897</td>\n",
       "      <td>0.755286</td>\n",
       "    </tr>\n",
       "    <tr>\n",
       "      <th>4</th>\n",
       "      <td>1</td>\n",
       "      <td>2</td>\n",
       "      <td>-0.074094</td>\n",
       "      <td>-3.246667e-04</td>\n",
       "      <td>1</td>\n",
       "      <td>sim1x</td>\n",
       "      <td>9.319627</td>\n",
       "      <td>1.318897</td>\n",
       "      <td>0.758278</td>\n",
       "    </tr>\n",
       "  </tbody>\n",
       "</table>\n",
       "</div>"
      ],
      "text/plain": [
       "   point  mode  modereal      modeimag  viscosity  trial  wavelength  \\\n",
       "0      0     1 -0.054023 -9.705727e-18          1  sim1x    9.319627   \n",
       "1      0     2 -0.075114 -4.253986e-14          1  sim1x    9.319627   \n",
       "2      0     3 -0.064405 -6.653098e-15          1  sim1x    9.319627   \n",
       "3      1     1 -0.053422  6.080391e-04          1  sim1x    9.319627   \n",
       "4      1     2 -0.074094 -3.246667e-04          1  sim1x    9.319627   \n",
       "\n",
       "   windingnum  traveling  \n",
       "0    1.318897   0.755286  \n",
       "1    1.318897   0.758278  \n",
       "2    1.318897   0.904040  \n",
       "3    1.318897   0.755286  \n",
       "4    1.318897   0.758278  "
      ]
     },
     "execution_count": 70,
     "metadata": {},
     "output_type": "execute_result"
    }
   ],
   "source": [
    "coddata.reset_index().head()"
   ]
  },
  {
   "cell_type": "code",
   "execution_count": 71,
   "metadata": {},
   "outputs": [],
   "source": [
    "coddata.reset_index().to_csv('Data/sim1xcod.csv', mode='w')"
   ]
  },
  {
   "cell_type": "code",
   "execution_count": 72,
   "metadata": {},
   "outputs": [
    {
     "name": "stdout",
     "output_type": "stream",
     "text": [
      "Wavelength by fraction calculation:  9.319627121524139\n",
      "Winding number: 1.3188973677090092\n",
      "Wavelength by simply dividing L by winding number:  9.473145306752935\n"
     ]
    }
   ],
   "source": [
    "print(\"Wavelength by fraction calculation: \", wave_length)\n",
    "print(\"Winding number: {}\".format(winding_number))\n",
    "print(\"Wavelength by simply dividing L by winding number: \", L/winding_number)"
   ]
  },
  {
   "cell_type": "code",
   "execution_count": 27,
   "metadata": {},
   "outputs": [
    {
     "data": {
      "image/png": "[encoded data removed]",
      "text/plain": [
       "<Figure size 432x288 with 1 Axes>"
      ]
     },
     "metadata": {
      "needs_background": "light"
     },
     "output_type": "display_data"
    }
   ],
   "source": [
    "plt.figure()\n",
    "plt.plot(np.real(U[:,0]), np.imag(U[:,0]))\n",
    "plt.title(\"First mode in the complex plane\")\n",
    "plt.ylabel(\"Imaginary part\")\n",
    "plt.xlabel(\"Real part\")\n",
    "plt.show()"
   ]
  },
  {
   "cell_type": "code",
   "execution_count": null,
   "metadata": {},
   "outputs": [],
   "source": []
  }
 ],
 "metadata": {
  "colab": {
   "collapsed_sections": [
    "iTtEAxTkTnZX"
   ],
   "name": "traveling index of flappers.ipynb",
   "provenance": []
  },
  "interpreter": {
   "hash": "1c1afaf06f65cdbc387963f12fb812a9ef4f8e9634a6af2ef9655160eec7e13b"
  },
  "kernelspec": {
   "display_name": "Python 3.8.5 ('base')",
   "language": "python",
   "name": "python3"
  },
  "language_info": {
   "codemirror_mode": {
    "name": "ipython",
    "version": 3
   },
   "file_extension": ".py",
   "mimetype": "text/x-python",
   "name": "python",
   "nbconvert_exporter": "python",
   "pygments_lexer": "ipython3",
   "version": "3.8.5"
  }
 },
 "nbformat": 4,
 "nbformat_minor": 1
}
